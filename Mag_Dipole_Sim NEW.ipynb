{
 "cells": [
  {
   "cell_type": "code",
   "execution_count": 57,
   "metadata": {},
   "outputs": [],
   "source": [
    "import numpy as np\n",
    "import scipy.constants as spc\n",
    "import matplotlib.pyplot as plt"
   ]
  },
  {
   "cell_type": "code",
   "execution_count": 58,
   "metadata": {},
   "outputs": [],
   "source": [
    "class Mag_Dipole():\n",
    "    def __init__(self, m):\n",
    "        self.m = m # initialize the dipole moment\n",
    "\n",
    "    # def visualize(self):\n",
    "    #     return\n",
    "\n",
    "    def get_field(self, r, version = 'vector'):\n",
    "        \n",
    "        r = r.reshape(max(r.shape[0], 1), r.shape[-1]) # make sure the position vector is the correct shape for vectorization (must be 2D!)\n",
    "        \n",
    "        B_field = np.array((spc.mu_0/(4*np.pi))*(3*r*(np.dot(r, m).reshape(r.shape[0],1))/(np.linalg.norm(r, axis = 1).reshape(r.shape[0],1)**5) - m/(np.linalg.norm(r, axis = 1).reshape(r.shape[0],1)**3))) # calc the B-field\n",
    "\n",
    "        if version == 'scalar':\n",
    "            return np.linalg.norm(B_field, axis = 1).reshape(B_field.shape[0],1)\n",
    "        elif version == 'vector':\n",
    "            return B_field\n",
    "        else:\n",
    "            raise Exception(\"'%s is not a valid version, please use either 'scalar' or 'vector''\" % version)\n",
    "        \n",
    "\n",
    "    \n",
    "    def gen_data(self, r_dist, num_data_pts, version = 'vector'):\n",
    "                \n",
    "        r_list = r_dist*np.random.rand(num_data_pts) # generate random radial distances within specified radius\n",
    "        theta_list = 2*np.pi*np.random.rand(num_data_pts) # generate random polar angles\n",
    "        phi_list = np.pi*np.random.rand(num_data_pts) # generate random azimuthal angles\n",
    "\n",
    "        x_list = r_list*np.sin(phi_list)*np.cos(theta_list) # switch to cartesian\n",
    "        y_list = r_list*np.sin(phi_list)*np.sin(theta_list) # switch to cartesian\n",
    "        z_list = r_list*np.cos(phi_list) # switch to cartesian\n",
    "\n",
    "        xyz = np.stack((x_list, y_list, z_list), axis=-1) # group data points together in their own arrays (this is position vector from dipole to measurement)\n",
    "\n",
    "        B_fields = self.get_field(xyz, version)\n",
    "        \n",
    "        label = np.hstack((xyz, np.repeat(self.m.reshape(1,3), len(xyz), axis = 0))) # keep track of the labels corresponding to the B-field\n",
    "\n",
    "        return B_fields, label"
   ]
  },
  {
   "cell_type": "code",
   "execution_count": 95,
   "metadata": {},
   "outputs": [
    {
     "name": "stdout",
     "output_type": "stream",
     "text": [
      "[[[-0.41185625 -0.34732055  0.92706507]\n",
      "  [-0.6933657   0.29837734 -1.95482338]\n",
      "  [-0.21782123 -0.00518482 -0.62805778]]\n",
      "\n",
      " [[ 0.07732601  0.17092187 -0.7615422 ]\n",
      "  [-0.52425827  0.59086722 -4.08240678]\n",
      "  [ 0.06238475 -0.13172196  4.49803432]]]\n",
      "\n",
      "[[-0.41185625 -0.34732055  0.92706507  0.07732601  0.17092187 -0.7615422 ]\n",
      " [-0.6933657   0.29837734 -1.95482338 -0.52425827  0.59086722 -4.08240678]\n",
      " [-0.21782123 -0.00518482 -0.62805778  0.06238475 -0.13172196  4.49803432]]\n",
      "[[4 4 0]\n",
      " [3 0 0]\n",
      " [2 2 4]]\n",
      "\n",
      "[[-0.41185625 -0.34732055  0.92706507  0.07732601  0.17092187 -0.7615422\n",
      "   4.          4.          0.        ]\n",
      " [-0.6933657   0.29837734 -1.95482338 -0.52425827  0.59086722 -4.08240678\n",
      "   3.          0.          0.        ]\n",
      " [-0.21782123 -0.00518482 -0.62805778  0.06238475 -0.13172196  4.49803432\n",
      "   2.          2.          4.        ]]\n",
      "\n",
      "\n",
      "[[[4 4 0]\n",
      "  [3 0 0]\n",
      "  [2 2 4]]\n",
      "\n",
      " [[4 4 0]\n",
      "  [3 0 0]\n",
      "  [2 2 4]]]\n"
     ]
    }
   ],
   "source": [
    "r_dist = 5\n",
    "num_data_pts = 3\n",
    "num_sensors = 2\n",
    "\n",
    "r_list = r_dist*np.random.rand(num_sensors, num_data_pts) # generate random radial distances within specified radius\n",
    "theta_list = 2*np.pi*np.random.rand(num_sensors, num_data_pts) # generate random polar angles\n",
    "phi_list = np.pi*np.random.rand(num_sensors, num_data_pts) # generate random azimuthal angles\n",
    "\n",
    "x_list = r_list*np.sin(phi_list)*np.cos(theta_list) # switch to cartesian\n",
    "y_list = r_list*np.sin(phi_list)*np.sin(theta_list) # switch to cartesian\n",
    "z_list = r_list*np.cos(phi_list) # switch to cartesian\n",
    "\n",
    "xyz = np.stack((x_list, y_list, z_list), axis=-1) # group data points together in their own arrays (this is position vector from dipole to measurement)\n",
    "print(xyz)\n",
    "print()\n",
    "\n",
    "xyz = np.einsum('ijk->jik', xyz).reshape(num_data_pts, num_sensors*3)\n",
    "\n",
    "print(xyz)\n",
    "\n",
    "M = np.random.randint(5, size = (num_data_pts, 3))\n",
    "\n",
    "print(M)\n",
    "print()\n",
    "\n",
    "label = np.hstack((xyz,M))\n",
    "print(label)\n",
    "print()\n",
    "\n",
    "M = np.repeat(M[None,:], num_sensors, axis=0)\n",
    "\n",
    "print()\n",
    "print(M)\n",
    "\n"
   ]
  },
  {
   "cell_type": "code",
   "execution_count": 65,
   "metadata": {},
   "outputs": [
    {
     "name": "stdout",
     "output_type": "stream",
     "text": [
      "[[[ 1.15733370e-04 -9.84860196e-05  2.74625335e-04]\n",
      "  [ 1.77906476e-10  1.06144794e-10  1.13177810e-08]\n",
      "  [-7.47177304e-05  7.59381684e-08 -1.69968275e-05]]\n",
      "\n",
      " [[ 3.92680243e-08  2.00089084e-07 -1.99296313e-07]\n",
      "  [ 4.66800132e-09  1.42195558e-08  3.10057217e-09]\n",
      "  [-1.38094295e-08  4.81219829e-10 -7.57878911e-09]]]\n",
      "\n",
      "\n",
      "[[[ 1.15733370e-04 -9.84860196e-05  2.74625335e-04]\n",
      "  [ 3.92680243e-08  2.00089084e-07 -1.99296313e-07]]\n",
      "\n",
      " [[ 1.77906476e-10  1.06144794e-10  1.13177810e-08]\n",
      "  [ 4.66800132e-09  1.42195558e-08  3.10057217e-09]]\n",
      "\n",
      " [[-7.47177304e-05  7.59381684e-08 -1.69968275e-05]\n",
      "  [-1.38094295e-08  4.81219829e-10 -7.57878911e-09]]]\n"
     ]
    }
   ],
   "source": [
    "# print(M)\n",
    "# print(xyz)\n",
    "\n",
    "B_field = np.array((spc.mu_0/(4*np.pi))*((3*xyz*np.einsum('ijk,ijk->ij', M, xyz).reshape(xyz.shape[0], xyz.shape[1], 1))/(np.linalg.norm(xyz, axis = 2).reshape(xyz.shape[0], xyz.shape[1], 1)**5) - M/(np.linalg.norm(xyz, axis = 2).reshape(xyz.shape[0], xyz.shape[1], 1)**3))) # row-wise dot product\n",
    "print(B_field)\n",
    "print()\n",
    "print()\n",
    "# print(B_field.reshape(num_data_pts, num_sensors, 3))\n",
    "# print()\n",
    "# print()\n",
    "print(np.einsum('ijk->jik', B_field))"
   ]
  },
  {
   "cell_type": "code",
   "execution_count": 66,
   "metadata": {},
   "outputs": [
    {
     "data": {
      "text/plain": [
       "array([[ 0.00000000e+00,  0.00000000e+00, -2.51327412e-09]])"
      ]
     },
     "execution_count": 66,
     "metadata": {},
     "output_type": "execute_result"
    }
   ],
   "source": [
    "r = np.array([[5,0,0]])\n",
    "m = np.array([0,0,1*np.pi*1**2])\n",
    "# dipole = Mag_Dipole(m)\n",
    "# print(dipole.get_field(r, version = 'scalar'))\n",
    "# print()\n",
    "# print(dipole.get_field(r, version = 'vector'))\n",
    "\n",
    "B_field = np.array((spc.mu_0/(4*np.pi))*(3*r*(np.dot(r, m).reshape(r.shape[0],1))/(np.linalg.norm(r, axis = 1).reshape(r.shape[0],1)**5) - m/(np.linalg.norm(r, axis = 1).reshape(r.shape[0],1)**3))) # calc the B-field\n",
    "B_field"
   ]
  },
  {
   "cell_type": "code",
   "execution_count": null,
   "metadata": {},
   "outputs": [],
   "source": []
  },
  {
   "cell_type": "code",
   "execution_count": null,
   "metadata": {},
   "outputs": [],
   "source": []
  },
  {
   "cell_type": "code",
   "execution_count": null,
   "metadata": {},
   "outputs": [],
   "source": []
  },
  {
   "cell_type": "code",
   "execution_count": null,
   "metadata": {},
   "outputs": [],
   "source": []
  },
  {
   "cell_type": "code",
   "execution_count": null,
   "metadata": {},
   "outputs": [],
   "source": []
  },
  {
   "cell_type": "code",
   "execution_count": null,
   "metadata": {},
   "outputs": [],
   "source": []
  },
  {
   "cell_type": "code",
   "execution_count": null,
   "metadata": {},
   "outputs": [],
   "source": []
  },
  {
   "cell_type": "code",
   "execution_count": 205,
   "metadata": {},
   "outputs": [],
   "source": [
    "def generate_data(num_data_pts, num_sensors, version = 'vector'):\n",
    "\n",
    "    r_dist = 5\n",
    "    # num_data_pts = 3\n",
    "    # num_sensors = 2\n",
    "\n",
    "    r_list = r_dist*np.random.rand(num_sensors, num_data_pts) # generate random radial distances within specified radius\n",
    "    theta_list = 2*np.pi*np.random.rand(num_sensors, num_data_pts) # generate random polar angles\n",
    "    phi_list = np.pi*np.random.rand(num_sensors, num_data_pts) # generate random azimuthal angles\n",
    "\n",
    "    x_list = r_list*np.sin(phi_list)*np.cos(theta_list) # switch to cartesian\n",
    "    y_list = r_list*np.sin(phi_list)*np.sin(theta_list) # switch to cartesian\n",
    "    z_list = r_list*np.cos(phi_list) # switch to cartesian\n",
    "\n",
    "    xyz = np.stack((x_list, y_list, z_list), axis=-1) # group data points together in their own arrays (this is position vector from dipole to measurement)\n",
    "    # print(xyz)\n",
    "\n",
    "    # print()\n",
    "\n",
    "    M = np.random.randint(5, size = (num_data_pts, 3))\n",
    "\n",
    "    xyz_label = np.einsum('ijk->jik', xyz).reshape(num_data_pts, num_sensors*3)\n",
    "\n",
    "    M_label = np.random.randint(5, size = (num_data_pts, 3))\n",
    "\n",
    "    label = np.hstack((xyz_label,M_label))\n",
    "\n",
    "\n",
    "    M = np.repeat(M[None,:], num_sensors, axis=0)\n",
    "\n",
    "    B_field = np.array((spc.mu_0/(4*np.pi))*((3*xyz*np.einsum('ijk,ijk->ij', M, xyz).reshape(xyz.shape[0], xyz.shape[1], 1))/(np.linalg.norm(xyz, axis = 2).reshape(xyz.shape[0], xyz.shape[1], 1)**5) - M/(np.linalg.norm(xyz, axis = 2).reshape(xyz.shape[0], xyz.shape[1], 1)**3))) # row-wise dot product\n",
    "\n",
    "\n",
    "\n",
    "    if version == 'scalar':\n",
    "        B_field = np.linalg.norm(B_field, axis = 1)\n",
    "        B_field = np.einsum('ij->ji', B_field).reshape(num_data_pts, num_sensors)\n",
    "        return B_field, label\n",
    "    \n",
    "    elif version == 'vector':\n",
    "        B_field = np.einsum('ijk->jik', B_field).reshape(num_data_pts, num_sensors*3)\n",
    "        return B_field, label\n",
    "    \n",
    "    else:\n",
    "        raise Exception(\"'%s is not a valid version, please use either 'scalar' or 'vector''\" % version)\n",
    "\n",
    "\n",
    "\n",
    "\n",
    "\n",
    "\n",
    "    r_dist = 5 # NEED TO CHANGE\n",
    "\n",
    "    r_list = r_dist*np.random.rand(num_data_pts) # generate random radial distances within specified radius\n",
    "    theta_list = 2*np.pi*np.random.rand(num_data_pts) # generate random polar angles\n",
    "    phi_list = np.pi*np.random.rand(num_data_pts) # generate random azimuthal angles\n",
    "\n",
    "    x_list = r_list*np.sin(phi_list)*np.cos(theta_list) # switch to cartesian\n",
    "    y_list = r_list*np.sin(phi_list)*np.sin(theta_list) # switch to cartesian\n",
    "    z_list = r_list*np.cos(phi_list) # switch to cartesian\n",
    "\n",
    "    xyz = np.stack((x_list, y_list, z_list), axis=-1) # group data points together in their own arrays (this is position vector from dipole to measurement)\n",
    "\n",
    "    m_dist = 5 # NEED TO CHANGE\n",
    "    M = np.random.randint(5, size=(num_data_pts, 3))\n",
    "\n",
    "\n",
    "    B_field = np.array((spc.mu_0/(4*np.pi))*((3*xyz*(np.einsum('ij,ij->i', M, xyz)).reshape(xyz.shape[0],1))/(np.linalg.norm(xyz, axis = 1).reshape(xyz.shape[0],1)**5) - M/(np.linalg.norm(xyz, axis = 1).reshape(xyz.shape[0],1)**3))) # calc the B-field\n",
    "\n",
    "    label = np.hstack((xyz, M)) # keep track of the labels corresponding to the B-field\n",
    "\n",
    "    if version == 'scalar':\n",
    "        return np.linalg.norm(B_field, axis = 1).reshape(B_field.shape[0],1), label\n",
    "    elif version == 'vector':\n",
    "        return B_field, label\n",
    "    else:\n",
    "        raise Exception(\"'%s is not a valid version, please use either 'scalar' or 'vector''\" % version)\n"
   ]
  },
  {
   "cell_type": "code",
   "execution_count": 220,
   "metadata": {},
   "outputs": [
    {
     "name": "stdout",
     "output_type": "stream",
     "text": [
      "[[ 5.84145016e-07 -8.96485122e-08  3.87572184e-07 ... -2.11670185e-08\n",
      "   6.59115829e-08 -1.39731263e-08]\n",
      " [-2.76440454e-09 -4.23028398e-09  3.35158061e-09 ... -8.05857906e-08\n",
      "  -2.19293530e-08 -2.55897013e-08]\n",
      " [ 1.59270386e-09 -5.61227798e-09  2.69718761e-09 ... -2.86409196e-07\n",
      "  -3.47425811e-08 -5.36887820e-07]\n",
      " ...\n",
      " [-2.86607344e-07 -2.36186662e-06 -2.31416116e-06 ...  1.52757367e-08\n",
      "  -4.29809538e-09 -9.29699306e-10]\n",
      " [ 2.18057751e-04 -2.63634271e-04  2.20213116e-04 ...  2.52930626e-09\n",
      "  -1.37977116e-09 -2.23110157e-09]\n",
      " [ 8.55766563e-09 -6.73049663e-09  4.75047230e-09 ... -3.45552397e-09\n",
      "  -7.85828465e-09  1.29198877e-08]] [[-7.01088708e-01 -2.06798240e-01 -6.98108049e-01 ...  4.00000000e+00\n",
      "   2.00000000e+00  0.00000000e+00]\n",
      " [ 4.06107385e-01 -7.66205096e-01  4.42496604e+00 ...  2.00000000e+00\n",
      "   3.00000000e+00  3.00000000e+00]\n",
      " [-8.93949204e-01  1.13023808e+00 -3.53367987e+00 ...  4.00000000e+00\n",
      "   0.00000000e+00  1.00000000e+00]\n",
      " ...\n",
      " [ 1.72262919e-01  4.90988630e-02 -3.82223965e-01 ...  2.00000000e+00\n",
      "   1.00000000e+00  3.00000000e+00]\n",
      " [ 5.07728510e-02 -7.40127625e-04  9.17045887e-02 ...  4.00000000e+00\n",
      "   1.00000000e+00  0.00000000e+00]\n",
      " [ 3.05046980e+00 -1.48714327e+00  1.82271356e+00 ...  4.00000000e+00\n",
      "   4.00000000e+00  2.00000000e+00]]\n"
     ]
    }
   ],
   "source": [
    "data, labels = generate_data(num_data_pts = 1000, num_sensors = 5, version = 'vector')\n",
    "# print(data[0], labels[0])\n",
    "print(data, labels)"
   ]
  },
  {
   "cell_type": "code",
   "execution_count": null,
   "metadata": {},
   "outputs": [],
   "source": []
  },
  {
   "cell_type": "code",
   "execution_count": null,
   "metadata": {},
   "outputs": [],
   "source": []
  },
  {
   "cell_type": "code",
   "execution_count": null,
   "metadata": {},
   "outputs": [],
   "source": []
  },
  {
   "attachments": {},
   "cell_type": "markdown",
   "metadata": {},
   "source": [
    "# Build a NN"
   ]
  },
  {
   "cell_type": "code",
   "execution_count": 221,
   "metadata": {},
   "outputs": [],
   "source": [
    "from tensorflow.keras import Sequential\n",
    "from tensorflow.keras.layers import Dense\n",
    "\n",
    "import tensorflow as tf"
   ]
  },
  {
   "cell_type": "code",
   "execution_count": 229,
   "metadata": {},
   "outputs": [],
   "source": [
    "model = Sequential()\n",
    "model.add(Dense(2048, input_shape=(len(data[0]),), activation='relu'))\n",
    "model.add(Dense(2048, activation='relu'))\n",
    "model.add(Dense(2048, activation='relu'))\n",
    "model.add(Dense(len(labels[0])))\n",
    "\n",
    "def custom_loss(y_pred, y_true):\n",
    "\n",
    "    xyz_pred, xyz_true = y_pred[:-3], y_true[:-3]\n",
    "    m_pred, m_true = y_pred[-3:], y_true[-3:]\n",
    "\n",
    "    res = tf.reduce_mean(tf.add(tf.square(tf.subtract(xyz_pred,xyz_true)), tf.square(tf.subtract(xyz_pred,xyz_true))))\n",
    "\n",
    "    return res\n",
    "\n",
    "model.compile(optimizer='adam', loss=custom_loss, metrics=['accuracy'])\n"
   ]
  },
  {
   "cell_type": "code",
   "execution_count": 230,
   "metadata": {},
   "outputs": [
    {
     "name": "stdout",
     "output_type": "stream",
     "text": [
      "Epoch 1/5\n",
      "100/100 [==============================] - 6s 53ms/step - loss: 22782.4727 - accuracy: 0.1790\n",
      "Epoch 2/5\n",
      "100/100 [==============================] - 6s 59ms/step - loss: 2656.6560 - accuracy: 0.1730\n",
      "Epoch 3/5\n",
      "100/100 [==============================] - 6s 59ms/step - loss: 231280.3438 - accuracy: 0.1660\n",
      "Epoch 4/5\n",
      "100/100 [==============================] - 6s 57ms/step - loss: 4295.0620 - accuracy: 0.1550\n",
      "Epoch 5/5\n",
      "100/100 [==============================] - 6s 60ms/step - loss: 12059.2178 - accuracy: 0.1980\n"
     ]
    },
    {
     "data": {
      "text/plain": [
       "<keras.callbacks.History at 0x23db0f48fd0>"
      ]
     },
     "execution_count": 230,
     "metadata": {},
     "output_type": "execute_result"
    }
   ],
   "source": [
    "model.fit(data, labels, epochs=5, batch_size=10)"
   ]
  },
  {
   "cell_type": "code",
   "execution_count": 231,
   "metadata": {},
   "outputs": [
    {
     "name": "stdout",
     "output_type": "stream",
     "text": [
      "[[-8.90140221e-09  4.83311129e-09 -5.48396433e-09 -2.59237684e-08\n",
      "  -8.75565191e-08  4.17284458e-08 -6.36984472e-09 -9.32435772e-09\n",
      "   9.46064334e-09 -4.56674325e-07 -4.55545985e-09 -2.73329435e-07\n",
      "  -2.44289875e-07 -5.22300884e-07 -5.08108993e-08]]\n"
     ]
    }
   ],
   "source": [
    "\n",
    "test_x, test_y = generate_data(num_data_pts = 1, num_sensors = 5, version = 'vector')\n",
    "print(test_x)"
   ]
  },
  {
   "cell_type": "code",
   "execution_count": 232,
   "metadata": {},
   "outputs": [
    {
     "name": "stdout",
     "output_type": "stream",
     "text": [
      "1/1 [==============================] - 0s 48ms/step\n"
     ]
    },
    {
     "data": {
      "text/plain": [
       "array([[ 0.04989507, -0.12470385,  0.20188113, -0.00582886,  0.116959  ,\n",
       "        -0.227143  ,  0.10782631,  0.04656748,  0.21636172, -0.03787172,\n",
       "         0.05017012, -0.22451009, -0.18570927,  0.00711007,  0.13524006,\n",
       "         2.2075717 ,  2.1044874 ,  2.0182116 ]], dtype=float32)"
      ]
     },
     "execution_count": 232,
     "metadata": {},
     "output_type": "execute_result"
    }
   ],
   "source": [
    "model.predict(test_x)"
   ]
  },
  {
   "cell_type": "code",
   "execution_count": 233,
   "metadata": {},
   "outputs": [
    {
     "name": "stdout",
     "output_type": "stream",
     "text": [
      "[[ 2.27561725 -3.34353661 -0.16820414  0.22082164  0.58329443 -1.81992401\n",
      "   0.96860706  0.40624731 -3.62654111  0.83641621 -0.68401415 -0.08961869\n",
      "  -0.40193849 -0.39919614  0.85355119  0.          2.          1.        ]]\n"
     ]
    }
   ],
   "source": [
    "print(test_y)"
   ]
  },
  {
   "cell_type": "code",
   "execution_count": null,
   "metadata": {},
   "outputs": [],
   "source": []
  }
 ],
 "metadata": {
  "kernelspec": {
   "display_name": "base",
   "language": "python",
   "name": "python3"
  },
  "language_info": {
   "codemirror_mode": {
    "name": "ipython",
    "version": 3
   },
   "file_extension": ".py",
   "mimetype": "text/x-python",
   "name": "python",
   "nbconvert_exporter": "python",
   "pygments_lexer": "ipython3",
   "version": "3.9.13"
  },
  "orig_nbformat": 4,
  "vscode": {
   "interpreter": {
    "hash": "7a50715a98c20ff23deafc7d3695efe4fda90b28ebbc050f4a0686a11f5fedc9"
   }
  }
 },
 "nbformat": 4,
 "nbformat_minor": 2
}
