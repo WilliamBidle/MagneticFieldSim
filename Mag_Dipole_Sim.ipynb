{
 "cells": [
  {
   "cell_type": "code",
   "execution_count": 5,
   "metadata": {},
   "outputs": [],
   "source": [
    "import numpy as np\n",
    "import scipy.constants as spc"
   ]
  },
  {
   "cell_type": "code",
   "execution_count": 21,
   "metadata": {},
   "outputs": [],
   "source": [
    "class Mag_Dipole():\n",
    "    def __init__(self, m):\n",
    "        self.m = m\n",
    "\n",
    "    # NEED TO ADD DIRECTION TO LOOP ORIENTATION (aka implement vector orientation of the dipole)\n",
    "    def get_field(self, r, num_loops = 1):\n",
    "        \n",
    "        B_field = (spc.mu_0/(4*np.pi))*(3*r*(np.dot(self.m, r))/(np.linalg.norm(r)**5) - self.m/(np.linalg.norm(r)**3))\n",
    "\n",
    "        return B_field\n",
    "\n",
    "    # def generate_data(self, r_dist):\n",
    "    #     r_list = r_dist*np.random.rand(10)\n",
    "    #     theta_list = 2*np.pi*np.random.rand(10)\n",
    "    #     phi_list = np.pi*np.random.rand(10)\n",
    "\n",
    "    #     x_list = r_list*np.sin(phi_list)*np.cos(theta_list)\n",
    "    #     y_list = r_list*np.sin(phi_list)*np.sin(theta_list)\n",
    "    #     z_list = r_list*np.cos(phi_list)\n",
    "\n",
    "    #     return x_list, y_list, z_list\n"
   ]
  },
  {
   "cell_type": "code",
   "execution_count": 22,
   "metadata": {},
   "outputs": [],
   "source": [
    "m = np.array([0,0,1])\n",
    "dipole = Mag_Dipole(m)"
   ]
  },
  {
   "cell_type": "code",
   "execution_count": 25,
   "metadata": {},
   "outputs": [
    {
     "data": {
      "text/plain": [
       "array([0.e+00, 0.e+00, 2.e-07])"
      ]
     },
     "execution_count": 25,
     "metadata": {},
     "output_type": "execute_result"
    }
   ],
   "source": [
    "r = np.array([0,0,1])\n",
    "dipole.get_field(r)"
   ]
  },
  {
   "cell_type": "code",
   "execution_count": null,
   "metadata": {},
   "outputs": [],
   "source": []
  },
  {
   "cell_type": "code",
   "execution_count": 32,
   "metadata": {},
   "outputs": [],
   "source": [
    "# dipole.generate_data(5)"
   ]
  },
  {
   "cell_type": "code",
   "execution_count": null,
   "metadata": {},
   "outputs": [],
   "source": []
  }
 ],
 "metadata": {
  "kernelspec": {
   "display_name": "base",
   "language": "python",
   "name": "python3"
  },
  "language_info": {
   "codemirror_mode": {
    "name": "ipython",
    "version": 3
   },
   "file_extension": ".py",
   "mimetype": "text/x-python",
   "name": "python",
   "nbconvert_exporter": "python",
   "pygments_lexer": "ipython3",
   "version": "3.9.13"
  },
  "orig_nbformat": 4,
  "vscode": {
   "interpreter": {
    "hash": "7a50715a98c20ff23deafc7d3695efe4fda90b28ebbc050f4a0686a11f5fedc9"
   }
  }
 },
 "nbformat": 4,
 "nbformat_minor": 2
}
